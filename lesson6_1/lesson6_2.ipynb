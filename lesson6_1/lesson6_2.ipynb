{
 "cells": [
  {
   "cell_type": "code",
   "execution_count": 3,
   "metadata": {},
   "outputs": [
    {
     "name": "stdout",
     "output_type": "stream",
     "text": [
      "大於80\n"
     ]
    }
   ],
   "source": [
    "scores=86\n",
    "if scores<60:\n",
    "    print(\"分數小於60\")\n",
    "else:\n",
    "    if scores>80:\n",
    "        print(\"大於80\")"
   ]
  },
  {
   "cell_type": "code",
   "execution_count": null,
   "metadata": {},
   "outputs": [],
   "source": [
    "try:\n",
    "    scores=int(input(\"請輸入學生分數(最高300):\"))\n",
    "except:\n",
    "    print(\"格式錯誤\")\n",
    "else:\n",
    "    if not (scores<=300 and scores>=0):\n",
    "        print(\"輸入分數超過300或小於0\")\n",
    "    else:\n",
    "        is_add=input(\"學生是否符合加分的條件?(y, n)\") \n",
    "\n",
    "        if is_add=='y':\n",
    "            scores*=1.05\n",
    "            if scores>300:\n",
    "                scores=300\n",
    "        print(\"目前學生的分數\", round(scores))\n",
    "\n",
    "print(\"應用程式結束\")"
   ]
  }
 ],
 "metadata": {
  "kernelspec": {
   "display_name": "Python 3",
   "language": "python",
   "name": "python3"
  },
  "language_info": {
   "codemirror_mode": {
    "name": "ipython",
    "version": 3
   },
   "file_extension": ".py",
   "mimetype": "text/x-python",
   "name": "python",
   "nbconvert_exporter": "python",
   "pygments_lexer": "ipython3",
   "version": "3.12.3"
  }
 },
 "nbformat": 4,
 "nbformat_minor": 2
}

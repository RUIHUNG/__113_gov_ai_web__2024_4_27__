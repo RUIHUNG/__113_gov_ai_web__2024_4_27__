{
 "cells": [
  {
   "cell_type": "code",
   "execution_count": 8,
   "metadata": {},
   "outputs": [
    {
     "name": "stdout",
     "output_type": "stream",
     "text": [
      "施 您好:\n",
      "您的BMI是: 20\n",
      "您的體重: 非常標準\n",
      "應用程式結束\n"
     ]
    }
   ],
   "source": [
    "try:\n",
    "    name=input(\"請輸入姓名:\")\n",
    "    height=float(input(\"請輸入身高(cm):\"))\n",
    "    weight=float(input(\"請輸入體重(kg):\"))\n",
    "    BMI=weight/(((height/100)**2))\n",
    "    if BMI<18.5:\n",
    "        state=\"體重過輕\"\n",
    "    elif BMI<24:\n",
    "        state=\"非常標準\"\n",
    "    elif BMI<27:\n",
    "        state=\"過重\"\n",
    "    elif BMI<30:\n",
    "        state=\"輕度肥胖\"\n",
    "    elif BMI<35:\n",
    "        state=\"中度肥胖\"\n",
    "    else:\n",
    "        state=\"重度肥胖\"\n",
    "\n",
    "    print(name,\"您好:\")\n",
    "    print(\"您的BMI是:\", round(BMI))\n",
    "    print(\"您的體重:\",state)\n",
    "\n",
    "except:\n",
    "    print(\"輸入格式錯誤\")\n",
    "\n",
    "print(\"應用程式結束\")"
   ]
  }
 ],
 "metadata": {
  "kernelspec": {
   "display_name": "Python 3",
   "language": "python",
   "name": "python3"
  },
  "language_info": {
   "codemirror_mode": {
    "name": "ipython",
    "version": 3
   },
   "file_extension": ".py",
   "mimetype": "text/x-python",
   "name": "python",
   "nbconvert_exporter": "python",
   "pygments_lexer": "ipython3",
   "version": "3.12.3"
  }
 },
 "nbformat": 4,
 "nbformat_minor": 2
}

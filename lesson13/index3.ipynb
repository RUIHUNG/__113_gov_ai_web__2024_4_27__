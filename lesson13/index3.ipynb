{
 "cells": [
  {
   "cell_type": "code",
   "execution_count": 1,
   "metadata": {},
   "outputs": [
    {
     "ename": "ModuleNotFoundError",
     "evalue": "No module named 'source'",
     "output_type": "error",
     "traceback": [
      "\u001b[1;31m---------------------------------------------------------------------------\u001b[0m",
      "\u001b[1;31mModuleNotFoundError\u001b[0m                       Traceback (most recent call last)",
      "Cell \u001b[1;32mIn[1], line 1\u001b[0m\n\u001b[1;32m----> 1\u001b[0m \u001b[38;5;28;01mimport\u001b[39;00m \u001b[38;5;21;01msource\u001b[39;00m\n\u001b[0;32m      2\u001b[0m \u001b[38;5;28;01mfrom\u001b[39;00m \u001b[38;5;21;01msource\u001b[39;00m \u001b[38;5;28;01mimport\u001b[39;00m Root\n\u001b[0;32m      3\u001b[0m data_str \u001b[38;5;241m=\u001b[39m source\u001b[38;5;241m.\u001b[39mdownload_youbike()\n",
      "\u001b[1;31mModuleNotFoundError\u001b[0m: No module named 'source'"
     ]
    }
   ],
   "source": [
    "import source\n",
    "from source import Root\n",
    "data_str = source.download_youbike()\n",
    "root = Root.model_validate_json(data_str)\n",
    "data = root.model_dump()\n",
    "\n",
    "#def get_sarea(value:dict)->str:\n",
    "#    return value['行政區']\n",
    "\n",
    "list(set(map(lambda value:value['行政區'],data)))"
   ]
  },
  {
   "cell_type": "code",
   "execution_count": 3,
   "metadata": {},
   "outputs": [
    {
     "name": "stderr",
     "output_type": "stream",
     "text": [
      "2024-06-29 15:00:45.149 WARNING streamlit.runtime.caching.cache_data_api: No runtime found, using MemoryCacheStorageManager\n",
      "2024-06-29 15:00:45.232 \n",
      "  \u001b[33m\u001b[1mWarning:\u001b[0m to view this Streamlit app on a browser, run it with the following\n",
      "  command:\n",
      "\n",
      "    streamlit run c:\\Users\\Red\\miniconda3\\envs\\enve1\\lib\\site-packages\\ipykernel_launcher.py [ARGUMENTS]\n",
      "2024-06-29 15:00:45.234 No runtime found, using MemoryCacheStorageManager\n"
     ]
    },
    {
     "data": {
      "text/plain": [
       "['土城區',\n",
       " '永和區',\n",
       " '林口區',\n",
       " '萬里區',\n",
       " '三峽區',\n",
       " '八里區',\n",
       " '石門區',\n",
       " '深坑區',\n",
       " '瑞芳區',\n",
       " '三重區',\n",
       " '三芝區',\n",
       " '板橋區',\n",
       " '淡水區',\n",
       " '石碇區',\n",
       " '中和區',\n",
       " '新店區',\n",
       " '泰山區',\n",
       " '坪林區',\n",
       " '汐止區',\n",
       " '五股區',\n",
       " '金山區']"
      ]
     },
     "execution_count": 3,
     "metadata": {},
     "output_type": "execute_result"
    }
   ],
   "source": [
    "import source\n",
    "from source import Root\n",
    "data_str = source.download_youbike()\n",
    "root = Root.model_validate_json(data_str)\n",
    "data = root.model_dump()\n",
    "\n",
    "#def get_sarea(value:dict)->str:\n",
    "#    return value['行政區']\n",
    "\n",
    "list(set(map(lambda value:value['行政區'],data)))"
   ]
  }
 ],
 "metadata": {
  "kernelspec": {
   "display_name": "enve1",
   "language": "python",
   "name": "python3"
  },
  "language_info": {
   "codemirror_mode": {
    "name": "ipython",
    "version": 3
   },
   "file_extension": ".py",
   "mimetype": "text/x-python",
   "name": "python",
   "nbconvert_exporter": "python",
   "pygments_lexer": "ipython3",
   "version": "3.10.14"
  }
 },
 "nbformat": 4,
 "nbformat_minor": 2
}

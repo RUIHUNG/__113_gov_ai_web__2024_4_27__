{
 "cells": [
  {
   "cell_type": "code",
   "execution_count": 7,
   "metadata": {},
   "outputs": [
    {
     "data": {
      "text/plain": [
       "'2.7.1'"
      ]
     },
     "execution_count": 7,
     "metadata": {},
     "output_type": "execute_result"
    }
   ],
   "source": [
    "import pydantic\n",
    "pydantic.__version__"
   ]
  },
  {
   "cell_type": "code",
   "execution_count": 14,
   "metadata": {},
   "outputs": [],
   "source": [
    "from pydantic import BaseModel\n",
    "\n",
    "class Person(BaseModel):\n",
    "    first_name:str\n",
    "    last_name:str\n",
    "    age:int"
   ]
  },
  {
   "cell_type": "code",
   "execution_count": 15,
   "metadata": {},
   "outputs": [
    {
     "data": {
      "text/plain": [
       "Person(first_name='john', last_name='Smith', age=42)"
      ]
     },
     "execution_count": 15,
     "metadata": {},
     "output_type": "execute_result"
    }
   ],
   "source": [
    "p2 = Person(first_name='john', last_name='Smith', age='42')\n",
    "p2"
   ]
  },
  {
   "cell_type": "code",
   "execution_count": 16,
   "metadata": {},
   "outputs": [
    {
     "name": "stdout",
     "output_type": "stream",
     "text": [
      "first_name='John' last_name='Smith' age=42\n"
     ]
    }
   ],
   "source": [
    "try:\n",
    "    p3 = Person(first_name='John', last_name='Smith', age='42')\n",
    "    print(p3)\n",
    "except Exception as e:\n",
    "    print(e)\n",
    "    "
   ]
  },
  {
   "cell_type": "code",
   "execution_count": 19,
   "metadata": {},
   "outputs": [
    {
     "name": "stdout",
     "output_type": "stream",
     "text": [
      "John\n"
     ]
    }
   ],
   "source": [
    "p = Person(first_name='John', last_name='Smith', age='42')\n",
    "print(p.first_name)"
   ]
  },
  {
   "cell_type": "code",
   "execution_count": 22,
   "metadata": {},
   "outputs": [
    {
     "name": "stdout",
     "output_type": "stream",
     "text": [
      "{'first_name': 'John', 'last_name': 'Smith', 'age': 42}\n"
     ]
    }
   ],
   "source": [
    "p3 = Person(first_name='John', last_name='Smith', age='42')\n",
    "data:dict = {\n",
    "    \"first_name\" : \"John\",\n",
    "    \"last_name\" : \"Smith\",\n",
    "    \"age\" : 42,\n",
    "}\n",
    "p3 = Person.model_validate(data)\n",
    "print(data)"
   ]
  },
  {
   "cell_type": "code",
   "execution_count": 23,
   "metadata": {},
   "outputs": [
    {
     "data": {
      "text/plain": [
       "Person(first_name='John', last_name='Smith', age=42)"
      ]
     },
     "execution_count": 23,
     "metadata": {},
     "output_type": "execute_result"
    }
   ],
   "source": [
    "data_json = '''\n",
    "{\n",
    "    \"first_name\": \"John\",\n",
    "    \"last_name\": \"Smith\",\n",
    "    \"age\":42\n",
    "}\n",
    "'''\n",
    "\n",
    "p = Person.model_validate_json(data_json)\n",
    "p"
   ]
  },
  {
   "cell_type": "code",
   "execution_count": 4,
   "metadata": {},
   "outputs": [
    {
     "data": {
      "text/plain": [
       "Person(first_name='John', last_name=None, age=18)"
      ]
     },
     "execution_count": 4,
     "metadata": {},
     "output_type": "execute_result"
    }
   ],
   "source": [
    "class Person(BaseModel):\n",
    "    first_name:str\n",
    "    last_name:str | None = None\n",
    "    age:int = 18\n",
    "data_json:str = '''\n",
    "{\n",
    "\"first_name\" : \"John\"\n",
    "}\n",
    "'''\n",
    "p6=Person.model_validate_json(data_json)\n",
    "p6"
   ]
  },
  {
   "cell_type": "code",
   "execution_count": 18,
   "metadata": {},
   "outputs": [
    {
     "data": {
      "text/plain": [
       "Person(id_=100, first_name='john', last_name='Smith', age=42)"
      ]
     },
     "execution_count": 18,
     "metadata": {},
     "output_type": "execute_result"
    }
   ],
   "source": [
    "from pydantic import Field\n",
    "data:str = {\n",
    "    \"id\":100,\n",
    "    \"first name\" : \"john\",\n",
    "    \"LASTNAME\":\"Smith\",\n",
    "    \"age in years\":42\n",
    "}\n",
    "\n",
    "\n",
    "class Person(BaseModel):\n",
    "    id_:int = Field(alias=\"id\")\n",
    "    first_name: str = Field(alias='first name',default=None)\n",
    "    last_name:str = Field(alias='LASTNAME')\n",
    "    age: int = Field(alias=\"age in years\")\n",
    "p = Person.model_validate(data)\n",
    "p"
   ]
  },
  {
   "cell_type": "code",
   "execution_count": 20,
   "metadata": {},
   "outputs": [],
   "source": [
    "data = {\n",
    "    \"firstName\": \"Arthur\",\n",
    "    \"lastName\": \"Clarke\",\n",
    "    \"born\":{\n",
    "        \"place\":{\n",
    "            \"country\":\"Lunar Colony\",\n",
    "            \"city\": \"Central City\"\n",
    "        },\n",
    "        \"date\":\"2001-01-01\"\n",
    "    }\n",
    "}"
   ]
  },
  {
   "cell_type": "code",
   "execution_count": 25,
   "metadata": {},
   "outputs": [
    {
     "name": "stdout",
     "output_type": "stream",
     "text": [
      "first_name='Arthur' last_name='Clarke' born=Born(place=Place(country='Lunar Colony', city='Central City'), dt=datetime.date(2001, 1, 1))\n"
     ]
    },
    {
     "data": {
      "text/plain": [
       "{'first_name': 'Arthur',\n",
       " 'last_name': 'Clarke',\n",
       " 'born': {'place': {'country': 'Lunar Colony', 'city': 'Central City'},\n",
       "  'dt': datetime.date(2001, 1, 1)}}"
      ]
     },
     "execution_count": 25,
     "metadata": {},
     "output_type": "execute_result"
    }
   ],
   "source": [
    "from datetime import date\n",
    "class Place(BaseModel):\n",
    "    country: str\n",
    "    city: str\n",
    "\n",
    "class Born(BaseModel):\n",
    "    place:Place\n",
    "    dt:date = Field(alias=\"date\")\n",
    "\n",
    "class Person(BaseModel):\n",
    "    first_name:str | None = Field(alias=\"firstName\",default=None)\n",
    "    last_name:str = Field(alias=\"lastName\")\n",
    "    born:Born\n",
    "\n",
    "p9=Person.model_validate(data)\n",
    "print(p9)\n",
    "p9.born.place.city\n",
    "p9.born.place.country\n",
    "p9.model_dump()"
   ]
  }
 ],
 "metadata": {
  "kernelspec": {
   "display_name": "Python 3",
   "language": "python",
   "name": "python3"
  },
  "language_info": {
   "codemirror_mode": {
    "name": "ipython",
    "version": 3
   },
   "file_extension": ".py",
   "mimetype": "text/x-python",
   "name": "python",
   "nbconvert_exporter": "python",
   "pygments_lexer": "ipython3",
   "version": "3.12.3"
  }
 },
 "nbformat": 4,
 "nbformat_minor": 2
}

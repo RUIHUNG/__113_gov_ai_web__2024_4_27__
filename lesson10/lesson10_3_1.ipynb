{
 "cells": [
  {
   "cell_type": "code",
   "execution_count": 3,
   "metadata": {},
   "outputs": [
    {
     "ename": "SyntaxError",
     "evalue": "incomplete input (3675242591.py, line 12)",
     "output_type": "error",
     "traceback": [
      "\u001b[0;36m  Cell \u001b[0;32mIn[3], line 12\u001b[0;36m\u001b[0m\n\u001b[0;31m    with open('新北市食品工廠清冊.json',encoding='utf-8') as file:\u001b[0m\n\u001b[0m                                                         ^\u001b[0m\n\u001b[0;31mSyntaxError\u001b[0m\u001b[0;31m:\u001b[0m incomplete input\n"
     ]
    }
   ],
   "source": [
    "from pydantic import Basemodel, field\n",
    "class Name_Ins(BaseModel):\n",
    "    Name_Ins:str = field(alias='Name_Ins')\n",
    "    No:int\n",
    "    Address:str\n",
    "    tax_ID_number:int\n",
    "    wgs84aX:int\n",
    "    wgs84aY:int\n",
    "class No(BaseModel):\n",
    "    records:list[Name_Ins]\n",
    "import json\n",
    "with open('新北市食品工廠清冊.json',encoding='utf-8') as file:\n"
   ]
  }
 ],
 "metadata": {
  "kernelspec": {
   "display_name": "Python 3",
   "language": "python",
   "name": "python3"
  },
  "language_info": {
   "codemirror_mode": {
    "name": "ipython",
    "version": 3
   },
   "file_extension": ".py",
   "mimetype": "text/x-python",
   "name": "python",
   "nbconvert_exporter": "python",
   "pygments_lexer": "ipython3",
   "version": "3.12.3"
  }
 },
 "nbformat": 4,
 "nbformat_minor": 2
}

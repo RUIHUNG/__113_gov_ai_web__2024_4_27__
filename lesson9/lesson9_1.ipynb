{
 "cells": [
  {
   "cell_type": "code",
   "execution_count": 13,
   "metadata": {},
   "outputs": [
    {
     "name": "stdout",
     "output_type": "stream",
     "text": [
      "<class '_io.TextIOWrapper'>\n",
      "False\n"
     ]
    }
   ],
   "source": [
    "file=open(\"names.txt\")\n",
    "print(type(file))\n",
    "print(file.closed)\n",
    "file.close()"
   ]
  },
  {
   "cell_type": "code",
   "execution_count": 6,
   "metadata": {},
   "outputs": [
    {
     "name": "stdout",
     "output_type": "stream",
     "text": [
      "['陳怡伶\\n', '馮芳如\\n', '蒙淑惠\\n']"
     ]
    }
   ],
   "source": [
    "with open(\"names.txt\",encoding=\"utf-8\") as file:\n",
    "    print(file.readlines(10),end='')"
   ]
  },
  {
   "cell_type": "code",
   "execution_count": 14,
   "metadata": {},
   "outputs": [
    {
     "name": "stdout",
     "output_type": "stream",
     "text": [
      "陳怡伶\n",
      "馮芳如\n",
      "蒙淑惠\n"
     ]
    }
   ],
   "source": [
    "with open(\"names.txt\",encoding=\"utf-8\") as file:\n",
    "    print(file.readline(),end='')\n",
    "    print(file.readline(),end='')\n",
    "    print(file.readline(),end='')"
   ]
  },
  {
   "cell_type": "code",
   "execution_count": 24,
   "metadata": {},
   "outputs": [],
   "source": [
    "with open(\"names.txt\",encoding=\"utf-8\") as file:\n",
    "    content:str=file.read()\n",
    "    names:list[str]=content.split(sep='\\n')"
   ]
  },
  {
   "cell_type": "code",
   "execution_count": 25,
   "metadata": {},
   "outputs": [
    {
     "data": {
      "text/plain": [
       "299"
      ]
     },
     "execution_count": 25,
     "metadata": {},
     "output_type": "execute_result"
    }
   ],
   "source": [
    "len(names)"
   ]
  },
  {
   "cell_type": "code",
   "execution_count": null,
   "metadata": {},
   "outputs": [],
   "source": []
  }
 ],
 "metadata": {
  "kernelspec": {
   "display_name": "Python 3",
   "language": "python",
   "name": "python3"
  },
  "language_info": {
   "codemirror_mode": {
    "name": "ipython",
    "version": 3
   },
   "file_extension": ".py",
   "mimetype": "text/x-python",
   "name": "python",
   "nbconvert_exporter": "python",
   "pygments_lexer": "ipython3",
   "version": "3.12.3"
  }
 },
 "nbformat": 4,
 "nbformat_minor": 2
}
